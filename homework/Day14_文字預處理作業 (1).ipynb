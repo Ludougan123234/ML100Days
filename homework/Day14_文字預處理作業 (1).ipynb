{
  "nbformat": 4,
  "nbformat_minor": 0,
  "metadata": {
    "kernelspec": {
      "display_name": "Python 3",
      "language": "python",
      "name": "python3"
    },
    "language_info": {
      "codemirror_mode": {
        "name": "ipython",
        "version": 3
      },
      "file_extension": ".py",
      "mimetype": "text/x-python",
      "name": "python",
      "nbconvert_exporter": "python",
      "pygments_lexer": "ipython3",
      "version": "3.7.4"
    },
    "colab": {
      "name": "Day14_作業.ipynb",
      "provenance": []
    }
  },
  "cells": [
    {
      "cell_type": "markdown",
      "metadata": {
        "id": "8qMTpXr-4B89"
      },
      "source": [
        "## 本日課程-文字預處理，部分內容前面章節可能提過，這裡會將前處理所需技巧串起"
      ]
    },
    {
      "cell_type": "code",
      "metadata": {
        "id": "OMgjX8xo4B9D",
        "colab": {
          "base_uri": "https://localhost:8080/"
        },
        "outputId": "924c1036-6477-4c5f-cb58-8b5c20b57f96"
      },
      "source": [
        "import numpy as np \n",
        "import pandas as pd\n",
        "import matplotlib.pyplot as plt\n",
        "from sklearn.metrics import confusion_matrix\n",
        "from nltk.corpus import stopwords\n",
        "import nltk\n",
        "nltk.download(\"punkt\")\n",
        "#tsv是指用tab分開字元的檔案\n",
        "dataset=pd.read_csv('movie_feedback.csv', header=None, encoding='Big5')\n",
        "X = dataset[0].values\n",
        "Y = dataset[1].values"
      ],
      "execution_count": 29,
      "outputs": [
        {
          "output_type": "stream",
          "text": [
            "[nltk_data] Downloading package punkt to /root/nltk_data...\n",
            "[nltk_data]   Unzipping tokenizers/punkt.zip.\n"
          ],
          "name": "stdout"
        }
      ]
    },
    {
      "cell_type": "code",
      "metadata": {
        "colab": {
          "base_uri": "https://localhost:8080/",
          "height": 419
        },
        "id": "kJUJOC9_4B9D",
        "outputId": "7f1381b1-f27a-4cb7-aaaf-af0984d2a32b"
      },
      "source": [
        "dataset"
      ],
      "execution_count": 20,
      "outputs": [
        {
          "output_type": "execute_result",
          "data": {
            "text/html": [
              "<div>\n",
              "<style scoped>\n",
              "    .dataframe tbody tr th:only-of-type {\n",
              "        vertical-align: middle;\n",
              "    }\n",
              "\n",
              "    .dataframe tbody tr th {\n",
              "        vertical-align: top;\n",
              "    }\n",
              "\n",
              "    .dataframe thead th {\n",
              "        text-align: right;\n",
              "    }\n",
              "</style>\n",
              "<table border=\"1\" class=\"dataframe\">\n",
              "  <thead>\n",
              "    <tr style=\"text-align: right;\">\n",
              "      <th></th>\n",
              "      <th>0</th>\n",
              "      <th>1</th>\n",
              "    </tr>\n",
              "  </thead>\n",
              "  <tbody>\n",
              "    <tr>\n",
              "      <th>0</th>\n",
              "      <td>the rock is destined to be the 21st century's ...</td>\n",
              "      <td>1</td>\n",
              "    </tr>\n",
              "    <tr>\n",
              "      <th>1</th>\n",
              "      <td>the gorgeously elaborate continuation of \" the...</td>\n",
              "      <td>1</td>\n",
              "    </tr>\n",
              "    <tr>\n",
              "      <th>2</th>\n",
              "      <td>effective but too-tepid biopic</td>\n",
              "      <td>1</td>\n",
              "    </tr>\n",
              "    <tr>\n",
              "      <th>3</th>\n",
              "      <td>if you sometimes like to go to the movies to h...</td>\n",
              "      <td>1</td>\n",
              "    </tr>\n",
              "    <tr>\n",
              "      <th>4</th>\n",
              "      <td>emerges as something rare , an issue movie tha...</td>\n",
              "      <td>1</td>\n",
              "    </tr>\n",
              "    <tr>\n",
              "      <th>...</th>\n",
              "      <td>...</td>\n",
              "      <td>...</td>\n",
              "    </tr>\n",
              "    <tr>\n",
              "      <th>10657</th>\n",
              "      <td>a terrible movie that some people will neverth...</td>\n",
              "      <td>0</td>\n",
              "    </tr>\n",
              "    <tr>\n",
              "      <th>10658</th>\n",
              "      <td>there are many definitions of 'time waster' bu...</td>\n",
              "      <td>0</td>\n",
              "    </tr>\n",
              "    <tr>\n",
              "      <th>10659</th>\n",
              "      <td>as it stands , crocodile hunter has the hurrie...</td>\n",
              "      <td>0</td>\n",
              "    </tr>\n",
              "    <tr>\n",
              "      <th>10660</th>\n",
              "      <td>the thing looks like a made-for-home-video qui...</td>\n",
              "      <td>0</td>\n",
              "    </tr>\n",
              "    <tr>\n",
              "      <th>10661</th>\n",
              "      <td>enigma is well-made , but it's just too dry an...</td>\n",
              "      <td>0</td>\n",
              "    </tr>\n",
              "  </tbody>\n",
              "</table>\n",
              "<p>10662 rows × 2 columns</p>\n",
              "</div>"
            ],
            "text/plain": [
              "                                                       0  1\n",
              "0      the rock is destined to be the 21st century's ...  1\n",
              "1      the gorgeously elaborate continuation of \" the...  1\n",
              "2                         effective but too-tepid biopic  1\n",
              "3      if you sometimes like to go to the movies to h...  1\n",
              "4      emerges as something rare , an issue movie tha...  1\n",
              "...                                                  ... ..\n",
              "10657  a terrible movie that some people will neverth...  0\n",
              "10658  there are many definitions of 'time waster' bu...  0\n",
              "10659  as it stands , crocodile hunter has the hurrie...  0\n",
              "10660  the thing looks like a made-for-home-video qui...  0\n",
              "10661  enigma is well-made , but it's just too dry an...  0\n",
              "\n",
              "[10662 rows x 2 columns]"
            ]
          },
          "metadata": {
            "tags": []
          },
          "execution_count": 20
        }
      ]
    },
    {
      "cell_type": "markdown",
      "metadata": {
        "id": "eOwDqzDi4B9E"
      },
      "source": [
        "---"
      ]
    },
    {
      "cell_type": "code",
      "metadata": {
        "id": "99Zyuz0C4B9F",
        "outputId": "34c65120-0491-4d04-fb60-5e366bd19ac9"
      },
      "source": [
        "print('review before preprocessing : {}'.format(X[0]))"
      ],
      "execution_count": null,
      "outputs": [
        {
          "output_type": "stream",
          "text": [
            "review before preprocessing : the rock is destined to be the 21st century's new \" conan \" and that he's going to make a splash even greater than arnold schwarzenegger , jean-claud van damme or steven segal . \n"
          ],
          "name": "stdout"
        }
      ]
    },
    {
      "cell_type": "markdown",
      "metadata": {
        "id": "WgoMUwGW4B9F"
      },
      "source": [
        "## 運用re.sub去除部分字元"
      ]
    },
    {
      "cell_type": "code",
      "metadata": {
        "id": "Pn_e09Cf4B9F"
      },
      "source": [
        "import re \n",
        "# 去除a-zA-Z以外的字元，並將他們取代為空格' '\n",
        "# r'[^a-zA-Z]\n",
        "review = re.sub(r'[^a-zA-Z]', ' ',X[0])"
      ],
      "execution_count": 15,
      "outputs": []
    },
    {
      "cell_type": "code",
      "metadata": {
        "id": "ZP9PybpZ4B9G",
        "colab": {
          "base_uri": "https://localhost:8080/"
        },
        "outputId": "22c9da7d-304f-490c-bf38-0ba82df347db"
      },
      "source": [
        "print('review after re.sub : {}'.format(review))"
      ],
      "execution_count": 16,
      "outputs": [
        {
          "output_type": "stream",
          "text": [
            "review after re.sub : the rock is destined to be the   st century s new   conan   and that he s going to make a splash even greater than arnold schwarzenegger   jean claud van damme or steven segal   \n"
          ],
          "name": "stdout"
        }
      ]
    },
    {
      "cell_type": "markdown",
      "metadata": {
        "id": "JiQpXqNN4B9G"
      },
      "source": [
        "## 將所有字母轉為小寫:因為大部分情境區分大小寫並不能提供而外訊息，如CV內顏色無法提供額外訊息時我們會將圖像轉為灰階，藉此降低複雜度"
      ]
    },
    {
      "cell_type": "code",
      "metadata": {
        "id": "VvoxwVFD4B9G",
        "outputId": "ecfeeee6-183c-407c-be08-1e52f1926608"
      },
      "source": [
        "#把全部變成小寫\n",
        "review= review.lower()\n",
        "print('review after lower : {}'.format(review))"
      ],
      "execution_count": null,
      "outputs": [
        {
          "output_type": "stream",
          "text": [
            "review after lower : the rock is destined to be the   st century s new   conan   and that he s going to make a splash even greater than arnold schwarzenegger   jean claud van damme or steven segal   \n"
          ],
          "name": "stdout"
        }
      ]
    },
    {
      "cell_type": "markdown",
      "metadata": {
        "id": "T6TF3LmN4B9G"
      },
      "source": [
        "## 斷詞"
      ]
    },
    {
      "cell_type": "code",
      "metadata": {
        "id": "q9qRerM04B9H",
        "colab": {
          "base_uri": "https://localhost:8080/"
        },
        "outputId": "2cf584d7-3464-49ee-ac0f-a3be5904dbb1"
      },
      "source": [
        "import nltk\n",
        "#把review裡面的單字切開\n",
        "print('review after split : {}'.format(review.split()))"
      ],
      "execution_count": 23,
      "outputs": [
        {
          "output_type": "stream",
          "text": [
            "review after split : ['the', 'rock', 'is', 'destined', 'to', 'be', 'the', 'st', 'century', 's', 'new', 'conan', 'and', 'that', 'he', 's', 'going', 'to', 'make', 'a', 'splash', 'even', 'greater', 'than', 'arnold', 'schwarzenegger', 'jean', 'claud', 'van', 'damme', 'or', 'steven', 'segal']\n"
          ],
          "name": "stdout"
        }
      ]
    },
    {
      "cell_type": "markdown",
      "metadata": {
        "id": "PJAOtYNf4B9H"
      },
      "source": [
        "* tokenize 相較於split會是更好的選擇，如 split 無法分開 word. 這種case"
      ]
    },
    {
      "cell_type": "code",
      "metadata": {
        "id": "buso5rFF4B9H",
        "outputId": "efce3d24-473f-4940-bf7e-c8acedab40d7"
      },
      "source": [
        "review = nltk.word_tokenize(review)\n",
        "print('review after tokenize : {}'.format(review))"
      ],
      "execution_count": null,
      "outputs": [
        {
          "output_type": "stream",
          "text": [
            "review after tokenize : ['the', 'rock', 'is', 'destined', 'to', 'be', 'the', 'st', 'century', 's', 'new', 'conan', 'and', 'that', 'he', 's', 'going', 'to', 'make', 'a', 'splash', 'even', 'greater', 'than', 'arnold', 'schwarzenegger', 'jean', 'claud', 'van', 'damme', 'or', 'steven', 'segal']\n"
          ],
          "name": "stdout"
        }
      ]
    },
    {
      "cell_type": "markdown",
      "metadata": {
        "id": "O0O6cbc14B9I"
      },
      "source": [
        "## stopwords: 移除贅字，此步驟為前處理的重要步驟之一，過多的贅字不僅無法提供更多訊息，還會干擾到模型的訓練"
      ]
    },
    {
      "cell_type": "code",
      "metadata": {
        "id": "ojoW8prK4B9I",
        "colab": {
          "base_uri": "https://localhost:8080/"
        },
        "outputId": "266f8edc-8a99-4213-b4af-3c91de3ad318"
      },
      "source": [
        "#處理文字，有建立好的文字褲會幫我們移除不想要的文字\n",
        "import nltk\n",
        "nltk.download('stopwords')"
      ],
      "execution_count": 31,
      "outputs": [
        {
          "output_type": "stream",
          "text": [
            "[nltk_data] Downloading package stopwords to /root/nltk_data...\n",
            "[nltk_data]   Unzipping corpora/stopwords.zip.\n"
          ],
          "name": "stdout"
        },
        {
          "output_type": "execute_result",
          "data": {
            "text/plain": [
              "True"
            ]
          },
          "metadata": {
            "tags": []
          },
          "execution_count": 31
        }
      ]
    },
    {
      "cell_type": "code",
      "metadata": {
        "id": "D0kym_Zv4B9I",
        "colab": {
          "base_uri": "https://localhost:8080/"
        },
        "outputId": "c64c660a-7940-42fb-a29a-613476f686d7"
      },
      "source": [
        "review=[word for word in review if not word in set(stopwords.words())]\n",
        "print('review after removing stopwords : {}'.format(review))"
      ],
      "execution_count": 37,
      "outputs": [
        {
          "output_type": "stream",
          "text": [
            "review after removing stopwords : ['rock', 'destined', 'st', 'century', 'new', 'conan', 'going', 'make', 'splash', 'even', 'greater', 'arnold', 'schwarzenegger', 'jean', 'claud', 'damme', 'steven', 'segal']\n"
          ],
          "name": "stdout"
        }
      ]
    },
    {
      "cell_type": "markdown",
      "metadata": {
        "id": "HK2BGP7Q4B9J"
      },
      "source": [
        "## Stemming: 詞幹提取\n",
        " * ex. loves,loved都變成love\n",
        " * 中文沒有詞幹提取的需求"
      ]
    },
    {
      "cell_type": "code",
      "metadata": {
        "id": "L4C_5c-x4B9J"
      },
      "source": [
        "from nltk.stem.porter import PorterStemmer\n",
        "ps=PorterStemmer()\n",
        "review=[ps.stem(word) for word in review]"
      ],
      "execution_count": 42,
      "outputs": []
    },
    {
      "cell_type": "code",
      "metadata": {
        "id": "jSslOcSm4B9J",
        "colab": {
          "base_uri": "https://localhost:8080/"
        },
        "outputId": "1ec88eb8-ab65-4836-9b4e-cf24e71c2c1b"
      },
      "source": [
        "print('review after stemming : {}'.format(review))"
      ],
      "execution_count": 41,
      "outputs": [
        {
          "output_type": "stream",
          "text": [
            "review after stemming : ['rock', 'destin', 'st', 'centuri', 'new', 'conan', 'go', 'make', 'splash', 'even', 'greater', 'arnold', 'schwarzenegg', 'jean', 'claud', 'damm', 'steven', 'segal']\n"
          ],
          "name": "stdout"
        }
      ]
    },
    {
      "cell_type": "markdown",
      "metadata": {
        "id": "aYzObxgw4B9J"
      },
      "source": [
        "## 練習清理所有的句子"
      ]
    },
    {
      "cell_type": "code",
      "metadata": {
        "id": "gVOYg_c54B9J"
      },
      "source": [
        "#dataset=pd.read_csv('movie_feedback.csv',encoding = 'Big5',names=['feedback', 'label'] )\n",
        "X = dataset[0].values"
      ],
      "execution_count": 43,
      "outputs": []
    },
    {
      "cell_type": "code",
      "metadata": {
        "id": "42vwg9Rb4B9J"
      },
      "source": [
        "corpus=[]\n",
        "row=len(X)\n",
        "for i in range(0,row):\n",
        "    review=re.sub('[^a-zA-Z]',' ',X[i])\n",
        "    review=review.lower()\n",
        "    review=review.split()\n",
        "    ps=PorterStemmer()\n",
        "    ## 這裡先不用stopwords 因為 review中很多反定詞會被移掉 如isn't good, 會變成 good\n",
        "    review=[ps.stem(word) for word in review]\n",
        "    review=' '.join(review)\n",
        "    corpus.append(review)"
      ],
      "execution_count": 52,
      "outputs": []
    },
    {
      "cell_type": "markdown",
      "metadata": {
        "id": "_0NX9-ZD4B9K"
      },
      "source": [
        "## 轉bag-of-words vector"
      ]
    },
    {
      "cell_type": "code",
      "metadata": {
        "id": "gvZ1Itbh4B9K"
      },
      "source": [
        "from sklearn.feature_extraction.text import CountVectorizer\n",
        "#Creating bag of word model\n",
        "#tokenization(符號化)\n",
        "from sklearn.feature_extraction.text import CountVectorizer\n",
        "#max_features是要建造幾個column，會按造字出現的高低去篩選 \n",
        "cv = CountVectorizer(max_features=1500)\n",
        "#toarray是建造matrixs\n",
        "#X現在為sparsity就是很多零的matrix\n",
        "X_ = cv.fit_transform(corpus).toarray()\n",
        "Y_ = dataset[1].values"
      ],
      "execution_count": 53,
      "outputs": []
    },
    {
      "cell_type": "markdown",
      "metadata": {
        "id": "wDYFC5Sr4B9K"
      },
      "source": [
        "## 選擇練習: 將處理好數據放入 naive_bayes模型，並預測評論為正向或負面，詳細原理之後章節會解釋。"
      ]
    },
    {
      "cell_type": "markdown",
      "metadata": {
        "id": "Pk5Brvgp4B9K"
      },
      "source": [
        "## Training"
      ]
    },
    {
      "cell_type": "code",
      "metadata": {
        "id": "HhVg1Rzv4B9K",
        "outputId": "e28193ad-4388-4a3e-e28d-3f95d41f78a0"
      },
      "source": [
        "from sklearn.model_selection import train_test_split\n",
        "X_train, X_test, y_train, y_test = train_test_split(X_, Y_, test_size = 0.1)\n",
        "\n",
        "# Feature Scaling\n",
        "\n",
        "#Naive Bayes\n",
        "from sklearn.naive_bayes import GaussianNB\n",
        "classifier = GaussianNB()\n",
        "classifier.fit(X_train, y_train)\n"
      ],
      "execution_count": null,
      "outputs": [
        {
          "output_type": "execute_result",
          "data": {
            "text/plain": [
              "GaussianNB(priors=None, var_smoothing=1e-09)"
            ]
          },
          "metadata": {
            "tags": []
          },
          "execution_count": 60
        }
      ]
    },
    {
      "cell_type": "markdown",
      "metadata": {
        "id": "u6fsJASG4B9L"
      },
      "source": [
        "## Inference"
      ]
    },
    {
      "cell_type": "code",
      "metadata": {
        "id": "RMjOdowU4B9L"
      },
      "source": [
        "\n",
        "message='I really like this movie!!'\n",
        "## 要使用一樣的前處理\n",
        "review=re.sub('[^a-zA-Z]',' ',message)\n",
        "review=review.lower()\n",
        "review=review.split()\n",
        "ps=PorterStemmer()\n",
        "review=[ps.stem(word) for word in review]\n",
        "review = ' '.join(review)\n",
        "input_ = cv.transform([review]).toarray()\n",
        "prediction = classifier.predict(input_)\n",
        "\n"
      ],
      "execution_count": null,
      "outputs": []
    },
    {
      "cell_type": "code",
      "metadata": {
        "id": "i13YsvTs4B9L",
        "outputId": "b61bb627-6f04-4a39-ce99-d1135c856729"
      },
      "source": [
        "prediction ## 1代表正向評價"
      ],
      "execution_count": null,
      "outputs": [
        {
          "output_type": "execute_result",
          "data": {
            "text/plain": [
              "array([1])"
            ]
          },
          "metadata": {
            "tags": []
          },
          "execution_count": 70
        }
      ]
    },
    {
      "cell_type": "code",
      "metadata": {
        "id": "6xBfJNDJ4B9L"
      },
      "source": [
        "message='A terrible movie  !!'\n",
        "review=re.sub('[^a-zA-Z]',' ',message)\n",
        "review=review.lower()\n",
        "review=review.split()\n",
        "ps=PorterStemmer()\n",
        "review=[ps.stem(word) for word in review]\n",
        "review = ' '.join(review)\n",
        "input_ = cv.transform([review]).toarray()\n",
        "prediction = classifier.predict(input_)\n",
        "\n"
      ],
      "execution_count": null,
      "outputs": []
    },
    {
      "cell_type": "code",
      "metadata": {
        "id": "36Xj4s4s4B9L",
        "outputId": "56e23da9-eada-47e2-8c0a-dff772cb533d"
      },
      "source": [
        "prediction ## 0代表負面評價"
      ],
      "execution_count": null,
      "outputs": [
        {
          "output_type": "execute_result",
          "data": {
            "text/plain": [
              "array([0])"
            ]
          },
          "metadata": {
            "tags": []
          },
          "execution_count": 72
        }
      ]
    },
    {
      "cell_type": "code",
      "metadata": {
        "id": "Txf_4MR14B9M"
      },
      "source": [
        ""
      ],
      "execution_count": null,
      "outputs": []
    }
  ]
}