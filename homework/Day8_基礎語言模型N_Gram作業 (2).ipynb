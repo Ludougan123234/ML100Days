{
  "nbformat": 4,
  "nbformat_minor": 0,
  "metadata": {
    "kernelspec": {
      "display_name": "cupoy_env",
      "language": "python",
      "name": "cupoy_env"
    },
    "language_info": {
      "codemirror_mode": {
        "name": "ipython",
        "version": 3
      },
      "file_extension": ".py",
      "mimetype": "text/x-python",
      "name": "python",
      "nbconvert_exporter": "python",
      "pygments_lexer": "ipython3",
      "version": "3.7.3"
    },
    "colab": {
      "name": "基礎語言模型N_Gram作業.ipynb",
      "provenance": []
    }
  },
  "cells": [
    {
      "cell_type": "markdown",
      "metadata": {
        "id": "e5U_Qb_cnFC6"
      },
      "source": [
        "### 作業目標: 了解N-Gram如何藉由文本計算機率"
      ]
    },
    {
      "cell_type": "markdown",
      "metadata": {
        "id": "teSs-2AznFC_"
      },
      "source": [
        "### 為何需要使用馬可夫假設來簡化語言模型的計算?\n",
        "\n",
        "原本的語言模型利用貝氏定理計算機率時為:\n",
        "$$\n",
        "\\begin{aligned}\n",
        "&W = (W_1W_2W_3W_4…W_m) \\\\\n",
        "&P(W_1,W_2,W_3,W_4,…,W_m) = P(W_1)*P(W_2|W_1)*P(W_3|W_1,W_2)*…*P(W_m|W_1,…,W_{m-1})\n",
        "\\end{aligned}\n",
        "$$\n",
        "\n",
        "為何需要引入馬可夫假設使機率簡化為:\n",
        "$$\n",
        "P(W_m|W_1,W_2,W_3,…,W_{m-1}) = P(W_m|W_{m-n+1},W_{m-n+2},…,W_{m-1})\n",
        "$$"
      ]
    },
    {
      "cell_type": "code",
      "metadata": {
        "id": "l8CyzO_5nFDA"
      },
      "source": [
        "'''\n",
        "因為馬可夫假設主張下一個字詞出現的頻率只依賴前面的一個或數個字詞，而不需要計算（考慮）到太多先前的字詞 \n",
        "(Markov models...assume we can predict the probability of some future unit without looking too far into the past\n",
        "\n",
        "Reference: \n",
        "1. Jurafsky, Daniel and James H. Martin. \"Ch3- N-gram language models.\" Speech and Language Processing. web.stanford.edu/~jurafsky/slp3/3.pdf. Accessed \n",
        "26 Jan 2021.\n",
        "'''"
      ],
      "execution_count": null,
      "outputs": []
    },
    {
      "cell_type": "markdown",
      "metadata": {
        "id": "tThl9R_6nFDA"
      },
      "source": [
        "### 以Bigram模型下判斷語句是否合理\n",
        "\n",
        "已知的機率值有\n",
        "1. p(i|_start_) = 0.25\n",
        "2. p(english|want) = 0.0011\n",
        "3. p(food|english) = 0.5\n",
        "4. p(_end_|food) = 0.68\n",
        "5. P(want|_start_) = 0.25\n",
        "6. P(english|i) = 0.0011"
      ]
    },
    {
      "cell_type": "code",
      "metadata": {
        "scrolled": true,
        "colab": {
          "base_uri": "https://localhost:8080/",
          "height": 80
        },
        "id": "Mqd1Kwg4nFDB",
        "outputId": "074edd2a-3f5d-4ca8-afc4-bf6c110ff058"
      },
      "source": [
        "import numpy as np\n",
        "import pandas as pd\n",
        "words = ['i', 'want', 'to', 'eat', 'chinese', 'food', 'lunch', 'spend']\n",
        "word_cnts = np.array([2533, 927, 2417, 746, 158, 1093, 341, 278]).reshape(1, -1)\n",
        "df_word_cnts = pd.DataFrame(word_cnts, columns=words)\n",
        "df_word_cnts"
      ],
      "execution_count": null,
      "outputs": [
        {
          "output_type": "execute_result",
          "data": {
            "text/html": [
              "<div>\n",
              "<style scoped>\n",
              "    .dataframe tbody tr th:only-of-type {\n",
              "        vertical-align: middle;\n",
              "    }\n",
              "\n",
              "    .dataframe tbody tr th {\n",
              "        vertical-align: top;\n",
              "    }\n",
              "\n",
              "    .dataframe thead th {\n",
              "        text-align: right;\n",
              "    }\n",
              "</style>\n",
              "<table border=\"1\" class=\"dataframe\">\n",
              "  <thead>\n",
              "    <tr style=\"text-align: right;\">\n",
              "      <th></th>\n",
              "      <th>i</th>\n",
              "      <th>want</th>\n",
              "      <th>to</th>\n",
              "      <th>eat</th>\n",
              "      <th>chinese</th>\n",
              "      <th>food</th>\n",
              "      <th>lunch</th>\n",
              "      <th>spend</th>\n",
              "    </tr>\n",
              "  </thead>\n",
              "  <tbody>\n",
              "    <tr>\n",
              "      <th>0</th>\n",
              "      <td>2533</td>\n",
              "      <td>927</td>\n",
              "      <td>2417</td>\n",
              "      <td>746</td>\n",
              "      <td>158</td>\n",
              "      <td>1093</td>\n",
              "      <td>341</td>\n",
              "      <td>278</td>\n",
              "    </tr>\n",
              "  </tbody>\n",
              "</table>\n",
              "</div>"
            ],
            "text/plain": [
              "      i  want    to  eat  chinese  food  lunch  spend\n",
              "0  2533   927  2417  746      158  1093    341    278"
            ]
          },
          "metadata": {
            "tags": []
          },
          "execution_count": 1
        }
      ]
    },
    {
      "cell_type": "code",
      "metadata": {
        "colab": {
          "base_uri": "https://localhost:8080/",
          "height": 297
        },
        "id": "m3G_lZAcnFDC",
        "outputId": "52de476b-4c4b-49b5-a2fa-fdb180b0fa3c"
      },
      "source": [
        "# 記錄當前字與前一個字詞的存在頻率\n",
        "bigram_word_cnts = [[5, 827, 0, 9, 0, 0, 0, 2], [2, 0, 608, 1, 6, 6, 5, 1], [2, 0, 4, 686, 2, 0, 6, 211],\n",
        "                    [0, 0, 2, 0, 16, 2, 42, 0], [1, 0, 0, 0, 0, 82, 1, 0], [15, 0, 15, 0, 1, 4, 0, 0],\n",
        "                    [2, 0, 0, 0, 0, 1, 0, 0], [1, 0, 1, 0, 0, 0, 0, 0]]\n",
        "\n",
        "df_bigram_word_cnts = pd.DataFrame(bigram_word_cnts, columns=words, index=words)\n",
        "df_bigram_word_cnts"
      ],
      "execution_count": null,
      "outputs": [
        {
          "output_type": "execute_result",
          "data": {
            "text/html": [
              "<div>\n",
              "<style scoped>\n",
              "    .dataframe tbody tr th:only-of-type {\n",
              "        vertical-align: middle;\n",
              "    }\n",
              "\n",
              "    .dataframe tbody tr th {\n",
              "        vertical-align: top;\n",
              "    }\n",
              "\n",
              "    .dataframe thead th {\n",
              "        text-align: right;\n",
              "    }\n",
              "</style>\n",
              "<table border=\"1\" class=\"dataframe\">\n",
              "  <thead>\n",
              "    <tr style=\"text-align: right;\">\n",
              "      <th></th>\n",
              "      <th>i</th>\n",
              "      <th>want</th>\n",
              "      <th>to</th>\n",
              "      <th>eat</th>\n",
              "      <th>chinese</th>\n",
              "      <th>food</th>\n",
              "      <th>lunch</th>\n",
              "      <th>spend</th>\n",
              "    </tr>\n",
              "  </thead>\n",
              "  <tbody>\n",
              "    <tr>\n",
              "      <th>i</th>\n",
              "      <td>5</td>\n",
              "      <td>827</td>\n",
              "      <td>0</td>\n",
              "      <td>9</td>\n",
              "      <td>0</td>\n",
              "      <td>0</td>\n",
              "      <td>0</td>\n",
              "      <td>2</td>\n",
              "    </tr>\n",
              "    <tr>\n",
              "      <th>want</th>\n",
              "      <td>2</td>\n",
              "      <td>0</td>\n",
              "      <td>608</td>\n",
              "      <td>1</td>\n",
              "      <td>6</td>\n",
              "      <td>6</td>\n",
              "      <td>5</td>\n",
              "      <td>1</td>\n",
              "    </tr>\n",
              "    <tr>\n",
              "      <th>to</th>\n",
              "      <td>2</td>\n",
              "      <td>0</td>\n",
              "      <td>4</td>\n",
              "      <td>686</td>\n",
              "      <td>2</td>\n",
              "      <td>0</td>\n",
              "      <td>6</td>\n",
              "      <td>211</td>\n",
              "    </tr>\n",
              "    <tr>\n",
              "      <th>eat</th>\n",
              "      <td>0</td>\n",
              "      <td>0</td>\n",
              "      <td>2</td>\n",
              "      <td>0</td>\n",
              "      <td>16</td>\n",
              "      <td>2</td>\n",
              "      <td>42</td>\n",
              "      <td>0</td>\n",
              "    </tr>\n",
              "    <tr>\n",
              "      <th>chinese</th>\n",
              "      <td>1</td>\n",
              "      <td>0</td>\n",
              "      <td>0</td>\n",
              "      <td>0</td>\n",
              "      <td>0</td>\n",
              "      <td>82</td>\n",
              "      <td>1</td>\n",
              "      <td>0</td>\n",
              "    </tr>\n",
              "    <tr>\n",
              "      <th>food</th>\n",
              "      <td>15</td>\n",
              "      <td>0</td>\n",
              "      <td>15</td>\n",
              "      <td>0</td>\n",
              "      <td>1</td>\n",
              "      <td>4</td>\n",
              "      <td>0</td>\n",
              "      <td>0</td>\n",
              "    </tr>\n",
              "    <tr>\n",
              "      <th>lunch</th>\n",
              "      <td>2</td>\n",
              "      <td>0</td>\n",
              "      <td>0</td>\n",
              "      <td>0</td>\n",
              "      <td>0</td>\n",
              "      <td>1</td>\n",
              "      <td>0</td>\n",
              "      <td>0</td>\n",
              "    </tr>\n",
              "    <tr>\n",
              "      <th>spend</th>\n",
              "      <td>1</td>\n",
              "      <td>0</td>\n",
              "      <td>1</td>\n",
              "      <td>0</td>\n",
              "      <td>0</td>\n",
              "      <td>0</td>\n",
              "      <td>0</td>\n",
              "      <td>0</td>\n",
              "    </tr>\n",
              "  </tbody>\n",
              "</table>\n",
              "</div>"
            ],
            "text/plain": [
              "          i  want   to  eat  chinese  food  lunch  spend\n",
              "i         5   827    0    9        0     0      0      2\n",
              "want      2     0  608    1        6     6      5      1\n",
              "to        2     0    4  686        2     0      6    211\n",
              "eat       0     0    2    0       16     2     42      0\n",
              "chinese   1     0    0    0        0    82      1      0\n",
              "food     15     0   15    0        1     4      0      0\n",
              "lunch     2     0    0    0        0     1      0      0\n",
              "spend     1     0    1    0        0     0      0      0"
            ]
          },
          "metadata": {
            "tags": []
          },
          "execution_count": 62
        }
      ]
    },
    {
      "cell_type": "markdown",
      "metadata": {
        "id": "cjl3zbG6nFDC"
      },
      "source": [
        "由上表可知當前一個字詞(列)是want的時候, 當前字詞(行)是to的頻率在文本中共有608次"
      ]
    },
    {
      "cell_type": "code",
      "metadata": {
        "colab": {
          "base_uri": "https://localhost:8080/",
          "height": 297
        },
        "id": "Zl4p5RWmnFDD",
        "outputId": "9da84103-a194-4a30-a4d3-02a237ce2647"
      },
      "source": [
        "#請根據給出的總詞頻(df_word_cnts)與bigram模型的詞頻(df_bigram_word_cnts)計算出所有詞的配對機率(ex:p(want|i))\n",
        "df_bigram_prob = df_bigram_word_cnts.copy()\n",
        "\n",
        "df_bigram_prob = np.divide(df_bigram_prob, df_word_cnts.T) #.T --> transpose the array\n",
        "                #np.divide(df_bigram_prob, df_word_cnts.values.T) #.value --> take only numeric values from array\n",
        "df_bigram_prob"
      ],
      "execution_count": null,
      "outputs": [
        {
          "output_type": "execute_result",
          "data": {
            "text/html": [
              "<div>\n",
              "<style scoped>\n",
              "    .dataframe tbody tr th:only-of-type {\n",
              "        vertical-align: middle;\n",
              "    }\n",
              "\n",
              "    .dataframe tbody tr th {\n",
              "        vertical-align: top;\n",
              "    }\n",
              "\n",
              "    .dataframe thead th {\n",
              "        text-align: right;\n",
              "    }\n",
              "</style>\n",
              "<table border=\"1\" class=\"dataframe\">\n",
              "  <thead>\n",
              "    <tr style=\"text-align: right;\">\n",
              "      <th></th>\n",
              "      <th>i</th>\n",
              "      <th>want</th>\n",
              "      <th>to</th>\n",
              "      <th>eat</th>\n",
              "      <th>chinese</th>\n",
              "      <th>food</th>\n",
              "      <th>lunch</th>\n",
              "      <th>spend</th>\n",
              "    </tr>\n",
              "  </thead>\n",
              "  <tbody>\n",
              "    <tr>\n",
              "      <th>i</th>\n",
              "      <td>0.001974</td>\n",
              "      <td>0.32649</td>\n",
              "      <td>0.000000</td>\n",
              "      <td>0.003553</td>\n",
              "      <td>0.000000</td>\n",
              "      <td>0.000000</td>\n",
              "      <td>0.000000</td>\n",
              "      <td>0.000790</td>\n",
              "    </tr>\n",
              "    <tr>\n",
              "      <th>want</th>\n",
              "      <td>0.002157</td>\n",
              "      <td>0.00000</td>\n",
              "      <td>0.655879</td>\n",
              "      <td>0.001079</td>\n",
              "      <td>0.006472</td>\n",
              "      <td>0.006472</td>\n",
              "      <td>0.005394</td>\n",
              "      <td>0.001079</td>\n",
              "    </tr>\n",
              "    <tr>\n",
              "      <th>to</th>\n",
              "      <td>0.000827</td>\n",
              "      <td>0.00000</td>\n",
              "      <td>0.001655</td>\n",
              "      <td>0.283823</td>\n",
              "      <td>0.000827</td>\n",
              "      <td>0.000000</td>\n",
              "      <td>0.002482</td>\n",
              "      <td>0.087298</td>\n",
              "    </tr>\n",
              "    <tr>\n",
              "      <th>eat</th>\n",
              "      <td>0.000000</td>\n",
              "      <td>0.00000</td>\n",
              "      <td>0.002681</td>\n",
              "      <td>0.000000</td>\n",
              "      <td>0.021448</td>\n",
              "      <td>0.002681</td>\n",
              "      <td>0.056300</td>\n",
              "      <td>0.000000</td>\n",
              "    </tr>\n",
              "    <tr>\n",
              "      <th>chinese</th>\n",
              "      <td>0.006329</td>\n",
              "      <td>0.00000</td>\n",
              "      <td>0.000000</td>\n",
              "      <td>0.000000</td>\n",
              "      <td>0.000000</td>\n",
              "      <td>0.518987</td>\n",
              "      <td>0.006329</td>\n",
              "      <td>0.000000</td>\n",
              "    </tr>\n",
              "    <tr>\n",
              "      <th>food</th>\n",
              "      <td>0.013724</td>\n",
              "      <td>0.00000</td>\n",
              "      <td>0.013724</td>\n",
              "      <td>0.000000</td>\n",
              "      <td>0.000915</td>\n",
              "      <td>0.003660</td>\n",
              "      <td>0.000000</td>\n",
              "      <td>0.000000</td>\n",
              "    </tr>\n",
              "    <tr>\n",
              "      <th>lunch</th>\n",
              "      <td>0.005865</td>\n",
              "      <td>0.00000</td>\n",
              "      <td>0.000000</td>\n",
              "      <td>0.000000</td>\n",
              "      <td>0.000000</td>\n",
              "      <td>0.002933</td>\n",
              "      <td>0.000000</td>\n",
              "      <td>0.000000</td>\n",
              "    </tr>\n",
              "    <tr>\n",
              "      <th>spend</th>\n",
              "      <td>0.003597</td>\n",
              "      <td>0.00000</td>\n",
              "      <td>0.003597</td>\n",
              "      <td>0.000000</td>\n",
              "      <td>0.000000</td>\n",
              "      <td>0.000000</td>\n",
              "      <td>0.000000</td>\n",
              "      <td>0.000000</td>\n",
              "    </tr>\n",
              "  </tbody>\n",
              "</table>\n",
              "</div>"
            ],
            "text/plain": [
              "                i     want        to  ...      food     lunch     spend\n",
              "i        0.001974  0.32649  0.000000  ...  0.000000  0.000000  0.000790\n",
              "want     0.002157  0.00000  0.655879  ...  0.006472  0.005394  0.001079\n",
              "to       0.000827  0.00000  0.001655  ...  0.000000  0.002482  0.087298\n",
              "eat      0.000000  0.00000  0.002681  ...  0.002681  0.056300  0.000000\n",
              "chinese  0.006329  0.00000  0.000000  ...  0.518987  0.006329  0.000000\n",
              "food     0.013724  0.00000  0.013724  ...  0.003660  0.000000  0.000000\n",
              "lunch    0.005865  0.00000  0.000000  ...  0.002933  0.000000  0.000000\n",
              "spend    0.003597  0.00000  0.003597  ...  0.000000  0.000000  0.000000\n",
              "\n",
              "[8 rows x 8 columns]"
            ]
          },
          "metadata": {
            "tags": []
          },
          "execution_count": 136
        }
      ]
    },
    {
      "cell_type": "markdown",
      "metadata": {
        "id": "psj3tC9dnFDD"
      },
      "source": [
        "請根據已給的機率與所計算出的機率(df_bigram_prob), 試著判斷下列兩個句子哪個較為合理\n",
        "\n",
        "s1 = “i want english food”\n",
        "\n",
        "s2 = \"want i english food\""
      ]
    },
    {
      "cell_type": "code",
      "metadata": {
        "colab": {
          "base_uri": "https://localhost:8080/"
        },
        "id": "OnmvYKCcnFDD",
        "outputId": "81fc02af-c6a3-43a3-8a80-82632b8a53e2"
      },
      "source": [
        "'''\n",
        "given that: \n",
        "p(i|start) = 0.25\n",
        "p(english|want) = 0.0011\n",
        "p(food|english) = 0.5\n",
        "p(end|food) = 0.68\n",
        "P(want|start) = 0.25\n",
        "P(english|i) = 0.0011\n",
        "\n",
        "the probability of s1 (P(I|<start>) * P(want|I) * P(english|want) * P(food|english)) * p(end|food)) is:\n",
        "0.25 * 0.326 * 0.0011 * 0.5 * 0.68\n",
        "\n",
        "the probability of s2 P(want|<start>) * P(I|want) * P(english|I) * P(food|english)) * p(end|food)) is:\n",
        "0.25 * 0.002 * 0.0011 * 0.5 * 0.68\n",
        "'''\n",
        "print(\"the probability of s1 is approximately: {:.10f}, the probability of s2 is approximately: {:.10f}\"\n",
        ".format(0.25 * df_bigram_prob['want']['i'] * 0.0011 * 0.5 * 0.68, 0.25 * df_bigram_prob['i']['want'] * 0.0011 * 0.5 * 0.68))\n",
        "\n",
        "###S1 is more reasonable###"
      ],
      "execution_count": null,
      "outputs": [
        {
          "output_type": "stream",
          "text": [
            "the probability of s1 is approximately: 0.0000305268, the probability of s2 is approximately: 0.0000002017\n"
          ],
          "name": "stdout"
        }
      ]
    }
  ]
}