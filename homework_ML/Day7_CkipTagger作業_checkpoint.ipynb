{
  "nbformat": 4,
  "nbformat_minor": 0,
  "metadata": {
    "kernelspec": {
      "display_name": "cupoy_env",
      "language": "python",
      "name": "cupoy_env"
    },
    "language_info": {
      "codemirror_mode": {
        "name": "ipython",
        "version": 3
      },
      "file_extension": ".py",
      "mimetype": "text/x-python",
      "name": "python",
      "nbconvert_exporter": "python",
      "pygments_lexer": "ipython3",
      "version": "3.7.3"
    },
    "colab": {
      "name": "CkipTagger作業-checkpoint.ipynb",
      "provenance": []
    }
  },
  "cells": [
    {
      "cell_type": "markdown",
      "metadata": {
        "id": "cKhuITJwmJ8k"
      },
      "source": [
        "### 作業目標: 使用Jieba進行各項的斷詞操作"
      ]
    },
    {
      "cell_type": "markdown",
      "metadata": {
        "id": "gpkSXP98mJ8p"
      },
      "source": [
        "### Import 所需 libraries"
      ]
    },
    {
      "cell_type": "code",
      "metadata": {
        "colab": {
          "base_uri": "https://localhost:8080/"
        },
        "id": "kW4K7LKSmWI7",
        "outputId": "26b7985c-4643-4243-c77c-7a5b65917097"
      },
      "source": [
        "pip install -U ckiptagger[gdown]"
      ],
      "execution_count": 4,
      "outputs": [
        {
          "output_type": "stream",
          "text": [
            "Requirement already up-to-date: ckiptagger[gdown] in /usr/local/lib/python3.6/dist-packages (0.2.1)\n",
            "Requirement already satisfied, skipping upgrade: gdown; extra == \"gdown\" in /usr/local/lib/python3.6/dist-packages (from ckiptagger[gdown]) (3.6.4)\n",
            "Requirement already satisfied, skipping upgrade: tqdm in /usr/local/lib/python3.6/dist-packages (from gdown; extra == \"gdown\"->ckiptagger[gdown]) (4.41.1)\n",
            "Requirement already satisfied, skipping upgrade: requests in /usr/local/lib/python3.6/dist-packages (from gdown; extra == \"gdown\"->ckiptagger[gdown]) (2.23.0)\n",
            "Requirement already satisfied, skipping upgrade: six in /usr/local/lib/python3.6/dist-packages (from gdown; extra == \"gdown\"->ckiptagger[gdown]) (1.15.0)\n",
            "Requirement already satisfied, skipping upgrade: urllib3!=1.25.0,!=1.25.1,<1.26,>=1.21.1 in /usr/local/lib/python3.6/dist-packages (from requests->gdown; extra == \"gdown\"->ckiptagger[gdown]) (1.24.3)\n",
            "Requirement already satisfied, skipping upgrade: certifi>=2017.4.17 in /usr/local/lib/python3.6/dist-packages (from requests->gdown; extra == \"gdown\"->ckiptagger[gdown]) (2020.12.5)\n",
            "Requirement already satisfied, skipping upgrade: chardet<4,>=3.0.2 in /usr/local/lib/python3.6/dist-packages (from requests->gdown; extra == \"gdown\"->ckiptagger[gdown]) (3.0.4)\n",
            "Requirement already satisfied, skipping upgrade: idna<3,>=2.5 in /usr/local/lib/python3.6/dist-packages (from requests->gdown; extra == \"gdown\"->ckiptagger[gdown]) (2.10)\n"
          ],
          "name": "stdout"
        }
      ]
    },
    {
      "cell_type": "code",
      "metadata": {
        "colab": {
          "base_uri": "https://localhost:8080/"
        },
        "id": "WVs0r8mwmqfe",
        "outputId": "fa5f242a-f3a6-426c-9619-f5cb0117b016"
      },
      "source": [
        "# import library\n",
        "from ckiptagger import data_utils\n",
        "\n",
        "#設定儲存路徑(存在與此ipynb相同的目錄下)\n",
        "#注意: 此模型需2GB的儲存空間\n",
        "path_to_store = './'\n",
        "\n",
        "\n",
        "#我們可以使用提供的API從iis-ckip或gdrive-ckip進行下載\n",
        "#這裡我們使用gdrive-ckip進行下載\n",
        "\n",
        "#從iis-ckip下載\n",
        "#data_utils.download_data_url(\"./\")\n",
        "\n",
        "\n",
        "#下載到path_to_store並解壓縮(預設下載的壓縮檔為data.zip)\n",
        "data_utils.download_data_gdown(\"./\")"
      ],
      "execution_count": 5,
      "outputs": [
        {
          "output_type": "stream",
          "text": [
            "Downloading...\n",
            "From: https://drive.google.com/uc?id=1efHsY16pxK0lBD2gYCgCTnv1Swstq771\n",
            "To: /content/data.zip\n",
            "1.88GB [00:16, 111MB/s] \n"
          ],
          "name": "stderr"
        }
      ]
    },
    {
      "cell_type": "code",
      "metadata": {
        "id": "sz1qsNB_mJ8p"
      },
      "source": [
        "#導入所需libraries\n",
        "#請import 1.可用於下載權重的library 2.建構自定義字典的library 3.斷詞, 詞性標注,與命名實體辨識libries\n",
        "from ckiptagger import data_utils, construct_dictionary, WS, POS, NER\n",
        "\n",
        "#請對下列文本字串進行斷詞, 詞性標注, 命名實體識別\n",
        "\n",
        "sentence_list = [\n",
        "    \"傅達仁今將執行安樂死，卻突然爆出自己20年前遭緯來體育台封殺，他不懂自己哪裡得罪到電視台。\",\n",
        "    \"美國參議院針對今天總統布什所提名的勞工部長趙小蘭展開認可聽證會，預料她將會很順利通過參議院支持，成為該國有史以來第一位的華裔女性內閣成員。\",\n",
        "    \"\",\n",
        "    \"土地公有政策?？還是土地婆有政策。.\",\n",
        "    \"… 你確定嗎… 不要再騙了……\",\n",
        "    \"最多容納59,000個人,或5.9萬人,再多就不行了.這是環評的結論.\",\n",
        "    \"科長說:1,坪數對人數為1:3。2,可以再增加。\",\n",
        "]"
      ],
      "execution_count": 6,
      "outputs": []
    },
    {
      "cell_type": "markdown",
      "metadata": {
        "id": "X-o0x2TTmJ8q"
      },
      "source": [
        "### 進行斷詞, 詞性標注, 與命名實體識別"
      ]
    },
    {
      "cell_type": "code",
      "metadata": {
        "scrolled": true,
        "colab": {
          "base_uri": "https://localhost:8080/"
        },
        "id": "-2i9tm7kmJ8q",
        "outputId": "82dfe9be-a56d-4ec3-8afb-5d4861cbb2c6"
      },
      "source": [
        "#創建實例\n",
        "###<your code>###\n",
        "ws = WS(\"./data\")\n",
        "pos = POS(\"./data\")\n",
        "ner = NER(\"./data\")\n",
        "\n",
        "#斷詞\n",
        "###<your code>###\n",
        "word_s = ws(sentence_list, sentence_segmentation = True)\n",
        "\n",
        "print(f'斷詞輸出: {word_s}')\n",
        "print('\\n')\n",
        "\n",
        "#詞性標注\n",
        "word_p = pos(word_s)\n",
        "\n",
        "print(f'詞性標注輸出: {word_p}')\n",
        "print('\\n')\n",
        "\n",
        "#命名實體識別\n",
        "word_n = ner(word_s, word_p)\n",
        "print(f'命名實體識別輸出: {word_n}')"
      ],
      "execution_count": 48,
      "outputs": [
        {
          "output_type": "stream",
          "text": [
            "/usr/local/lib/python3.6/dist-packages/tensorflow/python/keras/layers/legacy_rnn/rnn_cell_impl.py:903: UserWarning: `tf.nn.rnn_cell.LSTMCell` is deprecated and will be removed in a future version. This class is equivalent as `tf.keras.layers.LSTMCell`, and will be replaced by that in Tensorflow 2.0.\n",
            "  warnings.warn(\"`tf.nn.rnn_cell.LSTMCell` is deprecated and will be \"\n",
            "/usr/local/lib/python3.6/dist-packages/tensorflow/python/keras/engine/base_layer_v1.py:1727: UserWarning: `layer.add_variable` is deprecated and will be removed in a future version. Please use `layer.add_weight` method instead.\n",
            "  warnings.warn('`layer.add_variable` is deprecated and '\n"
          ],
          "name": "stderr"
        },
        {
          "output_type": "stream",
          "text": [
            "斷詞輸出: [['傅達仁', '今', '將', '執行', '安樂死', '，', '卻', '突然', '爆出', '自己', '20', '年', '前', '遭', '緯來', '體育台', '封殺', '，', '他', '不', '懂', '自己', '哪裡', '得罪到', '電視台', '。'], ['美國', '參議院', '針對', '今天', '總統', '布什', '所', '提名', '的', '勞工部長', '趙小蘭', '展開', '認可', '聽證會', '，', '預料', '她', '將', '會', '很', '順利', '通過', '參議院', '支持', '，', '成為', '該', '國', '有史以來', '第一', '位', '的', '華裔', '女性', '內閣', '成員', '。'], [], ['土地公', '有', '政策', '?', '？', '還是', '土地', '婆', '有', '政策', '。', '.'], ['…', ' ', '你', '確定', '嗎', '…', ' ', '不要', '再', '騙', '了', '…', '…'], ['最多', '容納', '59', ',', '000', '個', '人', ',', '或', '5.9萬', '人', ',', '再', '多', '就', '不行', '了', '.', '這', '是', '環評', '的', '結論', '.'], ['科長', '說', ':', '1', ',', '坪數', '對', '人數', '為', '1', ':', '3', '。', '2', ',', '可以', '再', '增加', '。']]\n",
            "\n",
            "\n",
            "詞性標注輸出: [['Nb', 'Nd', 'D', 'VC', 'Na', 'COMMACATEGORY', 'D', 'D', 'VJ', 'Nh', 'Neu', 'Nf', 'Ng', 'P', 'Nb', 'Na', 'VC', 'COMMACATEGORY', 'Nh', 'D', 'VK', 'Nh', 'Ncd', 'VJ', 'Nc', 'PERIODCATEGORY'], ['Nc', 'Nc', 'P', 'Nd', 'Na', 'Nb', 'D', 'VC', 'DE', 'Na', 'Nb', 'VC', 'VC', 'Na', 'COMMACATEGORY', 'VE', 'Nh', 'D', 'D', 'Dfa', 'VH', 'VC', 'Nc', 'VC', 'COMMACATEGORY', 'VG', 'Nes', 'Nc', 'D', 'Neu', 'Nf', 'DE', 'Na', 'Na', 'Na', 'Na', 'PERIODCATEGORY'], [], ['Nb', 'V_2', 'Na', 'QUESTIONCATEGORY', 'QUESTIONCATEGORY', 'Caa', 'Na', 'Na', 'V_2', 'Na', 'PERIODCATEGORY', 'PERIODCATEGORY'], ['ETCCATEGORY', 'WHITESPACE', 'Nh', 'VK', 'T', 'ETCCATEGORY', 'WHITESPACE', 'D', 'D', 'VC', 'Di', 'ETCCATEGORY', 'ETCCATEGORY'], ['VH', 'VJ', 'Neu', 'COMMACATEGORY', 'Neu', 'Nf', 'Na', 'COMMACATEGORY', 'Caa', 'Neu', 'Na', 'COMMACATEGORY', 'D', 'D', 'D', 'VH', 'T', 'PERIODCATEGORY', 'Nep', 'SHI', 'Na', 'DE', 'Na', 'PERIODCATEGORY'], ['Na', 'VE', 'COLONCATEGORY', 'Neu', 'COMMACATEGORY', 'Na', 'P', 'Na', 'VG', 'Neu', 'COLONCATEGORY', 'Neu', 'PERIODCATEGORY', 'Neu', 'COMMACATEGORY', 'D', 'D', 'VHC', 'PERIODCATEGORY']]\n",
            "\n",
            "\n",
            "命名實體識別輸出: [{(18, 22, 'DATE', '20年前'), (23, 28, 'ORG', '緯來體育台'), (0, 3, 'PERSON', '傅達仁')}, {(0, 2, 'GPE', '美國'), (7, 9, 'DATE', '今天'), (56, 58, 'ORDINAL', '第一'), (11, 13, 'PERSON', '布什'), (17, 21, 'ORG', '勞工部長'), (2, 5, 'ORG', '參議院'), (60, 62, 'NORP', '華裔'), (21, 24, 'PERSON', '趙小蘭'), (42, 45, 'ORG', '參議院')}, set(), {(0, 3, 'PERSON', '土地公')}, set(), {(4, 6, 'CARDINAL', '59'), (7, 10, 'CARDINAL', '000'), (14, 18, 'CARDINAL', '5.9萬')}, {(12, 13, 'CARDINAL', '1'), (4, 5, 'CARDINAL', '1'), (16, 17, 'CARDINAL', '2'), (14, 15, 'CARDINAL', '3')}]\n"
          ],
          "name": "stdout"
        }
      ]
    },
    {
      "cell_type": "code",
      "metadata": {
        "colab": {
          "base_uri": "https://localhost:8080/"
        },
        "id": "rAiNy7EkmJ8r",
        "outputId": "17944b8a-18e4-47d9-8f7b-c29108d79093"
      },
      "source": [
        "#合併顯示輸出結果\n",
        "def combine_wandp(word_s, word_p):\n",
        "    assert len(word_s) == len(word_p)\n",
        "    \n",
        "    ###<your code>###\n",
        "    for i in range(len(word_s)):\n",
        "      print(\"{}({}) \".format(word_s[i], word_p[i]), end = '')\n",
        "        \n",
        "for i, sentence in enumerate(sentence_list):\n",
        "    print(f'Input sentence: \\n {sentence}')\n",
        "    print('\\n')\n",
        "    \n",
        "    print(f'Segmentation with PoS: \\n')\n",
        "    ###<your code>###\n",
        "    combine_wandp(word_s[i], word_p[i])\n",
        "    \n",
        "    print ('\\n')\n",
        "    print('Named Entity Recognition:')\n",
        "    for n in sorted(word_n[i]):\n",
        "        print (n)\n",
        "    print ('\\n')\n"
      ],
      "execution_count": 92,
      "outputs": [
        {
          "output_type": "stream",
          "text": [
            "Input sentence: \n",
            " 傅達仁今將執行安樂死，卻突然爆出自己20年前遭緯來體育台封殺，他不懂自己哪裡得罪到電視台。\n",
            "\n",
            "\n",
            "Segmentation with PoS: \n",
            "\n",
            "傅達仁(Nb) 今(Nd) 將(D) 執行(VC) 安樂死(Na) ，(COMMACATEGORY) 卻(D) 突然(D) 爆出(VJ) 自己(Nh) 20(Neu) 年(Nf) 前(Ng) 遭(P) 緯來(Nb) 體育台(Na) 封殺(VC) ，(COMMACATEGORY) 他(Nh) 不(D) 懂(VK) 自己(Nh) 哪裡(Ncd) 得罪到(VJ) 電視台(Nc) 。(PERIODCATEGORY) \n",
            "\n",
            "Named Entity Recognition:\n",
            "(0, 3, 'PERSON', '傅達仁')\n",
            "(18, 22, 'DATE', '20年前')\n",
            "(23, 28, 'ORG', '緯來體育台')\n",
            "\n",
            "\n",
            "Input sentence: \n",
            " 美國參議院針對今天總統布什所提名的勞工部長趙小蘭展開認可聽證會，預料她將會很順利通過參議院支持，成為該國有史以來第一位的華裔女性內閣成員。\n",
            "\n",
            "\n",
            "Segmentation with PoS: \n",
            "\n",
            "美國(Nc) 參議院(Nc) 針對(P) 今天(Nd) 總統(Na) 布什(Nb) 所(D) 提名(VC) 的(DE) 勞工部長(Na) 趙小蘭(Nb) 展開(VC) 認可(VC) 聽證會(Na) ，(COMMACATEGORY) 預料(VE) 她(Nh) 將(D) 會(D) 很(Dfa) 順利(VH) 通過(VC) 參議院(Nc) 支持(VC) ，(COMMACATEGORY) 成為(VG) 該(Nes) 國(Nc) 有史以來(D) 第一(Neu) 位(Nf) 的(DE) 華裔(Na) 女性(Na) 內閣(Na) 成員(Na) 。(PERIODCATEGORY) \n",
            "\n",
            "Named Entity Recognition:\n",
            "(0, 2, 'GPE', '美國')\n",
            "(2, 5, 'ORG', '參議院')\n",
            "(7, 9, 'DATE', '今天')\n",
            "(11, 13, 'PERSON', '布什')\n",
            "(17, 21, 'ORG', '勞工部長')\n",
            "(21, 24, 'PERSON', '趙小蘭')\n",
            "(42, 45, 'ORG', '參議院')\n",
            "(56, 58, 'ORDINAL', '第一')\n",
            "(60, 62, 'NORP', '華裔')\n",
            "\n",
            "\n",
            "Input sentence: \n",
            " \n",
            "\n",
            "\n",
            "Segmentation with PoS: \n",
            "\n",
            "\n",
            "\n",
            "Named Entity Recognition:\n",
            "\n",
            "\n",
            "Input sentence: \n",
            " 土地公有政策?？還是土地婆有政策。.\n",
            "\n",
            "\n",
            "Segmentation with PoS: \n",
            "\n",
            "土地公(Nb) 有(V_2) 政策(Na) ?(QUESTIONCATEGORY) ？(QUESTIONCATEGORY) 還是(Caa) 土地(Na) 婆(Na) 有(V_2) 政策(Na) 。(PERIODCATEGORY) .(PERIODCATEGORY) \n",
            "\n",
            "Named Entity Recognition:\n",
            "(0, 3, 'PERSON', '土地公')\n",
            "\n",
            "\n",
            "Input sentence: \n",
            " … 你確定嗎… 不要再騙了……\n",
            "\n",
            "\n",
            "Segmentation with PoS: \n",
            "\n",
            "…(ETCCATEGORY)  (WHITESPACE) 你(Nh) 確定(VK) 嗎(T) …(ETCCATEGORY)  (WHITESPACE) 不要(D) 再(D) 騙(VC) 了(Di) …(ETCCATEGORY) …(ETCCATEGORY) \n",
            "\n",
            "Named Entity Recognition:\n",
            "\n",
            "\n",
            "Input sentence: \n",
            " 最多容納59,000個人,或5.9萬人,再多就不行了.這是環評的結論.\n",
            "\n",
            "\n",
            "Segmentation with PoS: \n",
            "\n",
            "最多(VH) 容納(VJ) 59(Neu) ,(COMMACATEGORY) 000(Neu) 個(Nf) 人(Na) ,(COMMACATEGORY) 或(Caa) 5.9萬(Neu) 人(Na) ,(COMMACATEGORY) 再(D) 多(D) 就(D) 不行(VH) 了(T) .(PERIODCATEGORY) 這(Nep) 是(SHI) 環評(Na) 的(DE) 結論(Na) .(PERIODCATEGORY) \n",
            "\n",
            "Named Entity Recognition:\n",
            "(4, 6, 'CARDINAL', '59')\n",
            "(7, 10, 'CARDINAL', '000')\n",
            "(14, 18, 'CARDINAL', '5.9萬')\n",
            "\n",
            "\n",
            "Input sentence: \n",
            " 科長說:1,坪數對人數為1:3。2,可以再增加。\n",
            "\n",
            "\n",
            "Segmentation with PoS: \n",
            "\n",
            "科長(Na) 說(VE) :(COLONCATEGORY) 1(Neu) ,(COMMACATEGORY) 坪數(Na) 對(P) 人數(Na) 為(VG) 1(Neu) :(COLONCATEGORY) 3(Neu) 。(PERIODCATEGORY) 2(Neu) ,(COMMACATEGORY) 可以(D) 再(D) 增加(VHC) 。(PERIODCATEGORY) \n",
            "\n",
            "Named Entity Recognition:\n",
            "(4, 5, 'CARDINAL', '1')\n",
            "(12, 13, 'CARDINAL', '1')\n",
            "(14, 15, 'CARDINAL', '3')\n",
            "(16, 17, 'CARDINAL', '2')\n",
            "\n",
            "\n"
          ],
          "name": "stdout"
        }
      ]
    },
    {
      "cell_type": "markdown",
      "metadata": {
        "id": "6D4vn3U7mJ8s"
      },
      "source": [
        "### 帶入自定義字典\n",
        "\n",
        "觀察上面的輸出發現，斷詞結果將`年前`斷為`年`、`前`, 請使用自定義字典使斷詞結果依然維持為`年前`"
      ]
    },
    {
      "cell_type": "code",
      "metadata": {
        "colab": {
          "base_uri": "https://localhost:8080/"
        },
        "id": "dfwDherV56hb",
        "outputId": "5e80fa92-d73d-4a0e-d7e0-2c8570c5bf82"
      },
      "source": [
        "word_to_weight = {\"年前\" :1}\n",
        "dictionary1 = construct_dictionary(word_to_weight)\n",
        "print(dictionary1)\n",
        "ws = WS(\"./data\") #建構斷詞\n",
        "\n",
        "input_traditional_str = [\"傅達仁今將執行安樂死，卻突然爆出自己20年前遭緯來體育台封殺，他不懂自己哪裡得罪到電視台。\"]\n",
        "\n",
        "###<your code>###\n",
        "word_sentence_list = ws(input_traditional_str, coerce_dictionary=dictionary1)\n",
        "print(word_sentence_list)"
      ],
      "execution_count": 94,
      "outputs": [
        {
          "output_type": "stream",
          "text": [
            "[(2, {'年前': 1.0})]\n"
          ],
          "name": "stdout"
        },
        {
          "output_type": "stream",
          "text": [
            "/usr/local/lib/python3.6/dist-packages/tensorflow/python/keras/layers/legacy_rnn/rnn_cell_impl.py:903: UserWarning: `tf.nn.rnn_cell.LSTMCell` is deprecated and will be removed in a future version. This class is equivalent as `tf.keras.layers.LSTMCell`, and will be replaced by that in Tensorflow 2.0.\n",
            "  warnings.warn(\"`tf.nn.rnn_cell.LSTMCell` is deprecated and will be \"\n",
            "/usr/local/lib/python3.6/dist-packages/tensorflow/python/keras/engine/base_layer_v1.py:1727: UserWarning: `layer.add_variable` is deprecated and will be removed in a future version. Please use `layer.add_weight` method instead.\n",
            "  warnings.warn('`layer.add_variable` is deprecated and '\n"
          ],
          "name": "stderr"
        },
        {
          "output_type": "stream",
          "text": [
            "[['傅達仁', '今', '將', '執行', '安樂死', '，', '卻', '突然', '爆出', '自己', '20', '年前', '遭', '緯來', '體育台', '封殺', '，', '他', '不', '懂', '自己', '哪裡', '得罪到', '電視台', '。']]\n"
          ],
          "name": "stdout"
        }
      ]
    },
    {
      "cell_type": "code",
      "metadata": {
        "colab": {
          "base_uri": "https://localhost:8080/"
        },
        "id": "xZbEZtNMmJ8s",
        "outputId": "4552abc6-3158-431b-b764-c89a78403cba"
      },
      "source": [
        "#定義字典\n",
        "###<your code>###\n",
        "word_to_weight = {\"年前\" :1}\n",
        "dictionary1 = construct_dictionary(word_to_weight)\n",
        "print(dictionary1)\n",
        "#帶入自定義字典進行斷詞\n",
        "ws = WS(\"./data\") #建構斷詞\n",
        "\n",
        "input_traditional_str = [\"傅達仁今將執行安樂死，卻突然爆出自己20年前遭緯來體育台封殺，他不懂自己哪裡得罪到電視台。\"]\n",
        "\n",
        "###<your code>###\n",
        "word_sentence_list = ws(input_traditional_str, coerce_dictionary=dictionary1)\n",
        "\n",
        "\n",
        "print(word_sentence_list)"
      ],
      "execution_count": 95,
      "outputs": [
        {
          "output_type": "stream",
          "text": [
            "[(2, {'年前': 1.0})]\n"
          ],
          "name": "stdout"
        },
        {
          "output_type": "stream",
          "text": [
            "/usr/local/lib/python3.6/dist-packages/tensorflow/python/keras/layers/legacy_rnn/rnn_cell_impl.py:903: UserWarning: `tf.nn.rnn_cell.LSTMCell` is deprecated and will be removed in a future version. This class is equivalent as `tf.keras.layers.LSTMCell`, and will be replaced by that in Tensorflow 2.0.\n",
            "  warnings.warn(\"`tf.nn.rnn_cell.LSTMCell` is deprecated and will be \"\n",
            "/usr/local/lib/python3.6/dist-packages/tensorflow/python/keras/engine/base_layer_v1.py:1727: UserWarning: `layer.add_variable` is deprecated and will be removed in a future version. Please use `layer.add_weight` method instead.\n",
            "  warnings.warn('`layer.add_variable` is deprecated and '\n"
          ],
          "name": "stderr"
        },
        {
          "output_type": "stream",
          "text": [
            "[['傅達仁', '今', '將', '執行', '安樂死', '，', '卻', '突然', '爆出', '自己', '20', '年前', '遭', '緯來', '體育台', '封殺', '，', '他', '不', '懂', '自己', '哪裡', '得罪到', '電視台', '。']]\n"
          ],
          "name": "stdout"
        }
      ]
    }
  ]
}