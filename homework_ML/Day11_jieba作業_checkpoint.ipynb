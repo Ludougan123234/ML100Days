{
  "nbformat": 4,
  "nbformat_minor": 0,
  "metadata": {
    "kernelspec": {
      "display_name": "Python 3",
      "language": "python",
      "name": "python3"
    },
    "language_info": {
      "codemirror_mode": {
        "name": "ipython",
        "version": 3
      },
      "file_extension": ".py",
      "mimetype": "text/x-python",
      "name": "python",
      "nbconvert_exporter": "python",
      "pygments_lexer": "ipython3",
      "version": "3.7.4"
    },
    "colab": {
      "name": "Day11- jieba作業-checkpoint.ipynb",
      "provenance": []
    }
  },
  "cells": [
    {
      "cell_type": "markdown",
      "metadata": {
        "id": "pTPhLe_x6H1q"
      },
      "source": [
        "## 作業目標：運用課程所學，操作字串達到預期輸出"
      ]
    },
    {
      "cell_type": "markdown",
      "metadata": {
        "id": "eR1l25To6H1x"
      },
      "source": [
        "* 自行尋找一篇超過100字的文章\n",
        "    * 首先運用結巴斷詞，自行新增字典使得斷詞更為正確\n",
        "    * 使用jieba 完成 PoS Taggin\n",
        "    * 新增的詞也必須賦予詞性"
      ]
    },
    {
      "cell_type": "markdown",
      "metadata": {
        "id": "XgIjnou66H1x"
      },
      "source": [
        "---"
      ]
    },
    {
      "cell_type": "code",
      "metadata": {
        "colab": {
          "base_uri": "https://localhost:8080/"
        },
        "id": "4qoBxv_Y_9EH",
        "outputId": "72d6c6d9-e8c5-41f0-b7ad-6a1809de0ad3"
      },
      "source": [
        "pip install jieba"
      ],
      "execution_count": null,
      "outputs": [
        {
          "output_type": "stream",
          "text": [
            "Requirement already satisfied: jieba in /usr/local/lib/python3.6/dist-packages (0.42.1)\n"
          ],
          "name": "stdout"
        }
      ]
    },
    {
      "cell_type": "code",
      "metadata": {
        "id": "-r733s-46H1y",
        "colab": {
          "base_uri": "https://localhost:8080/"
        },
        "outputId": "25a801e5-d238-48f3-bbce-8a452e82d156"
      },
      "source": [
        "import jieba\n",
        "import jieba.posseg as pseg\n",
        "#this homework is written in Google Colad, and thus the dictionary files are uploaded seperately\n",
        "jieba.set_dictionary('dict.txt')\n",
        "jieba.load_userdict('adding.txt')"
      ],
      "execution_count": 27,
      "outputs": [
        {
          "output_type": "stream",
          "text": [
            "Building prefix dict from /content/dict.txt ...\n",
            "Loading model from cache /tmp/jieba.ueb620ec8402181953a0299d7957c0d6e.cache\n",
            "Loading model cost 0.588 seconds.\n",
            "Prefix dict has been built successfully.\n"
          ],
          "name": "stderr"
        }
      ]
    },
    {
      "cell_type": "markdown",
      "metadata": {
        "id": "dOQ_Wvo86H1y"
      },
      "source": [
        "---"
      ]
    },
    {
      "cell_type": "code",
      "metadata": {
        "id": "2Km_Bqt16H1y"
      },
      "source": [
        "sentence = '''這是敘述近年來，AI 應用已無所不在，不論在新創或是傳產領域，都可能透過機器學習解決過去難以解決的問題。但目前台灣企業在 AI 導入的腳步仍然緩慢，除了人才嚴重短缺，教育資源無法即時跟上產業變異也是原因之一。因此，我們發起了「 機器學習 百日馬拉松 」教練陪跑計劃，翻轉傳統上課模式，以自主練習為主，幫助你獲得最大學習成效，搶先一步進入 AI 人工智能領域。'''"
      ],
      "execution_count": null,
      "outputs": []
    },
    {
      "cell_type": "code",
      "metadata": {
        "colab": {
          "base_uri": "https://localhost:8080/",
          "height": 52
        },
        "id": "lclnbrir6H1z",
        "outputId": "df5a6c8e-5fc3-42d3-d7fb-dab9d41adafa"
      },
      "source": [
        "sentence"
      ],
      "execution_count": null,
      "outputs": [
        {
          "output_type": "execute_result",
          "data": {
            "application/vnd.google.colaboratory.intrinsic+json": {
              "type": "string"
            },
            "text/plain": [
              "'這是敘述近年來，AI 應用已無所不在，不論在新創或是傳產領域，都可能透過機器學習解決過去難以解決的問題。但目前台灣企業在 AI 導入的腳步仍然緩慢，除了人才嚴重短缺，教育資源無法即時跟上產業變異也是原因之一。因此，我們發起了「 機器學習 百日馬拉松 」教練陪跑計劃，翻轉傳統上課模式，以自主練習為主，幫助你獲得最大學習成效，搶先一步進入 AI 人工智能領域'"
            ]
          },
          "metadata": {
            "tags": []
          },
          "execution_count": 8
        }
      ]
    },
    {
      "cell_type": "code",
      "metadata": {
        "colab": {
          "base_uri": "https://localhost:8080/"
        },
        "id": "nvAovp3E6H10",
        "outputId": "22e43a87-cae9-4b92-d71f-97a88aa7bdc2"
      },
      "source": [
        "print(\"output 精確模式: {}\".format(\"|\".join(jieba.cut(sentence))))"
      ],
      "execution_count": null,
      "outputs": [
        {
          "output_type": "stream",
          "text": [
            "output 精確模式: 這是|敘述|近年|來|，|AI| |應用|已|無所不在|，|不論|在|新創|或是|傳產|領域|，|都|可能|透過|機器|學習|解決|過去|難以|解決|的|問題|。|但|目前|台灣|企業|在| |AI| |導入|的|腳步|仍然|緩慢|，|除了|人才|嚴重|短缺|，|教育|資源|無法|即時|跟上|產業|變異|也|是|原因|之|一|。|因此|，|我們|發起|了|「| |機器|學習| |百日|馬拉松| |」|教練|陪跑|計劃|，|翻轉|傳統|上課|模式|，|以|自主|練習|為主|，|幫助|你|獲得|最|大|學習|成效|，|搶先|一步|進入| |AI| |人工|智能|領域|。\n"
          ],
          "name": "stdout"
        }
      ]
    },
    {
      "cell_type": "code",
      "metadata": {
        "colab": {
          "base_uri": "https://localhost:8080/"
        },
        "id": "pvrzAiETdn0X",
        "outputId": "2aed477e-cd6b-4649-f00d-a6a8dfdea6cb"
      },
      "source": [
        "sentence_2 = '吳德榮指出，最新模式模擬顯示，明天至15日大陸高壓東移影響，晴朗無雲，因長、短波輻射的作用，白天陽光加熱，夜間地表散熱，形成日夜溫差極大的天氣；明天白天北台灣高溫升至23度，中南部25度以上，日夜溫差皆超過15度。他提到，14至15日氣溫逐日回升，仍為白天有和煦冬陽（各地高溫達25度以上）、夜間偏冷（低溫約在10至12度）的天氣；每天日夜溫差常達15度之多，年長者及有心血管疾病者要特別注意衣著調整。'\n",
        "print(\"字數：{}\\n全文：{}\".format(len(sentence_2), sentence_2))"
      ],
      "execution_count": 33,
      "outputs": [
        {
          "output_type": "stream",
          "text": [
            "字數：201\n",
            "全文：吳德榮指出，最新模式模擬顯示，明天至15日大陸高壓東移影響，晴朗無雲，因長、短波輻射的作用，白天陽光加熱，夜間地表散熱，形成日夜溫差極大的天氣；明天白天北台灣高溫升至23度，中南部25度以上，日夜溫差皆超過15度。他提到，14至15日氣溫逐日回升，仍為白天有和煦冬陽（各地高溫達25度以上）、夜間偏冷（低溫約在10至12度）的天氣；每天日夜溫差常達15度之多，年長者及有心血管疾病者要特別注意衣著調整。\n"
          ],
          "name": "stdout"
        }
      ]
    },
    {
      "cell_type": "code",
      "metadata": {
        "colab": {
          "base_uri": "https://localhost:8080/"
        },
        "id": "3DPLpRP9d-qh",
        "outputId": "c9156362-72d3-4ce7-b301-9670162b0969"
      },
      "source": [
        "print(\"output_2 精確模式: {}\".format(\"|\".join(jieba.cut(sentence_2))))"
      ],
      "execution_count": 34,
      "outputs": [
        {
          "output_type": "stream",
          "text": [
            "output_2 精確模式: 吳德榮|指出|，|最|新|模式|模擬|顯示|，|明天|至|15|日|大陸|高壓|東移|影響|，|晴朗|無|雲|，|因長|、|短波|輻射|的|作用|，|白天|陽光|加熱|，|夜間|地表|散熱|，|形成|日夜|溫差|極大|的|天氣|；|明天|白天|北|台灣|高溫|升至|23|度|，|中南部|25|度|以上|，|日夜|溫差|皆|超過|15|度|。|他|提到|，|14|至|15|日|氣溫|逐日|回升|，|仍為|白天|有|和煦|冬陽|（|各地|高溫|達|25|度|以上|）|、|夜間|偏冷|（|低溫|約|在|10|至|12|度|）|的|天氣|；|每天|日夜|溫差|常達|15|度|之多|，|年|長者|及|有|心血管|疾病|者|要|特別|注意|衣著|調整|。\n"
          ],
          "name": "stdout"
        }
      ]
    },
    {
      "cell_type": "markdown",
      "metadata": {
        "id": "31Esn-ty6H10"
      },
      "source": [
        "## 新增字典"
      ]
    },
    {
      "cell_type": "code",
      "metadata": {
        "colab": {
          "base_uri": "https://localhost:8080/"
        },
        "id": "MGo4qUoX6H10",
        "outputId": "051b3d27-76bb-4ab3-8579-42a340ed9a15"
      },
      "source": [
        "new_words = '機器學習\\n教練陪跑計劃台\\n百日馬拉松'\n",
        "with open('new_words.txt', 'w') as file:\n",
        "\tfile.write(new_words)\n",
        "jieba.load_userdict(\"new_words.txt\")\n",
        "print(\"output 精確模式: {}\".format('|'.join(jieba.cut(sentence, cut_all=False, HMM=False))))"
      ],
      "execution_count": 29,
      "outputs": [
        {
          "output_type": "stream",
          "text": [
            "output 精確模式: 這是|敘述|近年|來|，|AI| |應用|已|無所不在|，|不論|在|新創|或是|傳產|領域|，|都|可能|透過|機器學習|解決|過去|難以|解決|的|問題|。|但|目前|台灣|企業|在| |AI| |導入|的|腳步|仍然|緩慢|，|除了|人才|嚴重|短缺|，|教育|資源|無法|即時|跟上|產業|變異|也|是|原因|之|一|。|因此|，|我們|發起|了|「| |機器學習| |百日馬拉松| |」|教練|陪跑|計劃|，|翻轉|傳統|上課|模式|，|以|自主|練習|為主|，|幫助|你|獲得|最|大|學習|成效|，|搶先|一步|進入| |AI| |人工|智能|領域|。\n"
          ],
          "name": "stdout"
        }
      ]
    },
    {
      "cell_type": "code",
      "metadata": {
        "colab": {
          "base_uri": "https://localhost:8080/"
        },
        "id": "EGENKXggd8z-",
        "outputId": "67440544-9877-4b8a-dfa5-0ccde9211fdd"
      },
      "source": [
        "new_words2 = \"晴朗無雲 a\\n北台灣 n\\n日夜溫差 n\" #with part-of-speech information\n",
        "with open(\"new_words_2.txt\", 'w') as file:\n",
        "  file.write(new_words2)\n",
        "jieba.load_userdict(\"new_words_2.txt\")\n",
        "print(\"output_2 精確模式：{}\".format(\"|\".join(jieba.cut(sentence_2, cut_all = False, HMM = False))))"
      ],
      "execution_count": 40,
      "outputs": [
        {
          "output_type": "stream",
          "text": [
            "output_2 精確模式：吳德榮|指出|，|最|新|模式|模擬|顯示|，|明天|至|15|日|大陸|高壓|東移|影響|，|晴朗無雲|，|因|長|、|短波|輻射|的|作用|，|白天|陽光|加熱|，|夜間|地表|散熱|，|形成|日夜溫差|極|大|的|天氣|；|明天|白天|北台灣|高溫|升|至|23|度|，|中南部|25|度|以上|，|日夜溫差|皆|超過|15|度|。|他|提到|，|14|至|15|日|氣溫|逐日|回升|，|仍|為|白天|有|和煦|冬陽|（|各地|高溫|達|25|度|以上|）|、|夜間|偏冷|（|低溫|約|在|10|至|12|度|）|的|天氣|；|每天|日夜溫差|常|達|15|度|之多|，|年|長者|及|有|心血管|疾病|者|要|特別|注意|衣著|調整|。\n"
          ],
          "name": "stdout"
        }
      ]
    },
    {
      "cell_type": "markdown",
      "metadata": {
        "id": "iIAyNe0s6H11"
      },
      "source": [
        "## Taggin"
      ]
    },
    {
      "cell_type": "code",
      "metadata": {
        "id": "CEi0xEC66H11",
        "colab": {
          "base_uri": "https://localhost:8080/"
        },
        "outputId": "6edcaa0e-b870-400e-dcfe-7448fc4b97dd"
      },
      "source": [
        "words = pseg.cut(sentence,)\n",
        "for word, flag in words:\n",
        "    print(word, flag, end = \"|\")"
      ],
      "execution_count": 45,
      "outputs": [
        {
          "output_type": "stream",
          "text": [
            "這是 x|敘述 x|近年 t|來 zg|， x|AI eng|  x|應用 x|已 d|無所不在 x|， x|不論 x|在 p|新創 x|或是 c|傳產 x|領域 x|， x|都 d|可能 v|透過 x|機器學習 x|解決 x|過去 x|難以 x|解決 x|的 uj|問題 x|。 x|但 c|目前 t|台灣 x|企業 x|在 p|  x|AI eng|  x|導入 x|的 uj|腳步 x|仍然 d|緩慢 x|， x|除了 p|人才 n|嚴重 x|短缺 a|， x|教育 vn|資源 x|無法 x|即時 x|跟上 f|產業 x|變異 x|也 d|是 v|原因 n|之一 r|。 x|因此 c|， x|我們 x|發起 x|了 ul|「 x|  x|機器學習 x|  x|百日馬拉松 x|  x|」 x|教練 x|陪跑 x|計劃 x|， x|翻轉 x|傳統 x|上課 x|模式 n|， x|以 p|自主 v|練習 x|為主 x|， x|幫助 x|你 r|獲得 x|最 d|大 a|學習 x|成效 a|， x|搶先 x|一步 m|進入 x|  x|AI eng|  x|人工 n|智能 n|領域 x|。 x|"
          ],
          "name": "stdout"
        }
      ]
    },
    {
      "cell_type": "code",
      "metadata": {
        "id": "Ld9e063F6H11",
        "colab": {
          "base_uri": "https://localhost:8080/"
        },
        "outputId": "c38dd32b-9962-43ba-ca25-82718a258bbf"
      },
      "source": [
        "word2 = pseg.cut(sentence_2,)\n",
        "for words,flags in word2:\n",
        "  print(words, flags, end = \"|\")"
      ],
      "execution_count": 44,
      "outputs": [
        {
          "output_type": "stream",
          "text": [
            "吳德榮 x|指出 v|， x|最 d|新 a|模式 n|模擬 x|顯示 x|， x|明天 t|至 p|15 m|日 m|大陸 x|高壓 x|東移 x|影響 x|， x|晴朗無雲 a|， x|因長 n|、 x|短波 n|輻射 x|的 uj|作用 v|， x|白天 t|陽光 x|加熱 x|， x|夜間 x|地表 n|散熱 x|， x|形成 v|日夜溫差 n|極大 a|的 uj|天氣 x|； x|明天 t|白天 t|北台灣 n|高溫 x|升至 v|23 m|度 q|， x|中南部 nt|25 m|度 q|以上 f|， x|日夜溫差 n|皆 d|超過 x|15 m|度 q|。 x|他 r|提到 v|， x|14 m|至 p|15 m|日 m|氣溫 x|逐日 d|回升 v|， x|仍為 d|白天 t|有 v|和煦 nr|冬陽 x|（ x|各地 r|高溫 x|達 v|25 m|度 q|以上 f|） x|、 x|夜間 x|偏冷 x|（ x|低溫 x|約 d|在 p|10 m|至 p|12 m|度 q|） x|的 uj|天氣 x|； x|每天 r|日夜溫差 n|常達 a|15 m|度 q|之多 x|， x|年 m|長者 x|及有 c|心血管 n|疾病 n|者 k|要 v|特別 x|注意 v|衣著 x|調整 x|。 x|"
          ],
          "name": "stdout"
        }
      ]
    },
    {
      "cell_type": "code",
      "metadata": {
        "id": "XUhdR6xQe-yi"
      },
      "source": [
        ""
      ],
      "execution_count": null,
      "outputs": []
    }
  ]
}