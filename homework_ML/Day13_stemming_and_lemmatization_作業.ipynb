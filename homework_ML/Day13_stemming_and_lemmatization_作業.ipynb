{
  "nbformat": 4,
  "nbformat_minor": 0,
  "metadata": {
    "kernelspec": {
      "display_name": "Python 3",
      "language": "python",
      "name": "python3"
    },
    "language_info": {
      "codemirror_mode": {
        "name": "ipython",
        "version": 3
      },
      "file_extension": ".py",
      "mimetype": "text/x-python",
      "name": "python",
      "nbconvert_exporter": "python",
      "pygments_lexer": "ipython3",
      "version": "3.7.4"
    },
    "colab": {
      "name": "Day13 - stemming and lemmatization 作業.ipynb",
      "provenance": []
    }
  },
  "cells": [
    {
      "cell_type": "code",
      "metadata": {
        "colab": {
          "base_uri": "https://localhost:8080/"
        },
        "id": "kCjmV0_iH9h3",
        "outputId": "f72df9f5-8bd1-41bc-babc-1b8641f68d58"
      },
      "source": [
        "pip install nltk"
      ],
      "execution_count": 1,
      "outputs": [
        {
          "output_type": "stream",
          "text": [
            "Requirement already satisfied: nltk in /usr/local/lib/python3.6/dist-packages (3.2.5)\n",
            "Requirement already satisfied: six in /usr/local/lib/python3.6/dist-packages (from nltk) (1.15.0)\n"
          ],
          "name": "stdout"
        }
      ]
    },
    {
      "cell_type": "code",
      "metadata": {
        "colab": {
          "base_uri": "https://localhost:8080/"
        },
        "id": "WPcr9DsgH7F1",
        "outputId": "339f64c8-bea5-427c-aed8-596de0645dbc"
      },
      "source": [
        "from nltk.stem import WordNetLemmatizer \n",
        "from nltk.stem.porter import PorterStemmer\n",
        "import nltk\n",
        "nltk.download('wordnet')\n",
        "nltk.download('punkt')\n",
        "nltk.download('averaged_perceptron_tagger')\n",
        "## 創建stemmer\n",
        "ps=PorterStemmer()\n",
        "\n",
        "## 創建Lemmatizer\n",
        "lemmatizer = WordNetLemmatizer() "
      ],
      "execution_count": 20,
      "outputs": [
        {
          "output_type": "stream",
          "text": [
            "[nltk_data] Downloading package wordnet to /root/nltk_data...\n",
            "[nltk_data]   Package wordnet is already up-to-date!\n",
            "[nltk_data] Downloading package punkt to /root/nltk_data...\n",
            "[nltk_data]   Package punkt is already up-to-date!\n",
            "[nltk_data] Downloading package averaged_perceptron_tagger to\n",
            "[nltk_data]     /root/nltk_data...\n",
            "[nltk_data]   Unzipping taggers/averaged_perceptron_tagger.zip.\n"
          ],
          "name": "stdout"
        }
      ]
    },
    {
      "cell_type": "markdown",
      "metadata": {
        "id": "BJYQTKLkH7F8"
      },
      "source": [
        "### example"
      ]
    },
    {
      "cell_type": "code",
      "metadata": {
        "id": "ZfgFJkTwH7F9",
        "outputId": "5feb0a3c-5e4a-4ba1-e7ab-c42858bacda8"
      },
      "source": [
        "print('Stemming amusing : {}'.format(ps.stem('amusing')))\n",
        "print('lemmatization amusing : {}'.format(lemmatizer.lemmatize('amusing',pos = 'v')))"
      ],
      "execution_count": null,
      "outputs": [
        {
          "output_type": "stream",
          "text": [
            "Stemming amusing : amus\n",
            "lemmatization amusing : amuse\n"
          ],
          "name": "stdout"
        }
      ]
    },
    {
      "cell_type": "markdown",
      "metadata": {
        "id": "Ky5g-4ALH7F-"
      },
      "source": [
        "### 運用tokenize技巧結合stemming提取每個單詞的詞幹"
      ]
    },
    {
      "cell_type": "code",
      "metadata": {
        "id": "4qGh_zGkH7F_",
        "outputId": "e10f7b09-9fcf-4b76-9e7e-ccfde9e2ccd4"
      },
      "source": [
        "# Define the sentence to be lemmatized\n",
        "sentence = \"The striped bats are hanging on their feet for best\"\n",
        "\n",
        "# Tokenize: Split the sentence into words\n",
        "word_list = nltk.word_tokenize(sentence)\n",
        "print(word_list)\n",
        "#> ['The', 'striped', 'bats', 'are', 'hanging', 'on', 'their', 'feet', 'for', 'best']\n",
        "\n",
        "stemming_output = ' '.join([ps.stem(w) for w in word_list])\n",
        "print(stemming_output)\n",
        "#> The striped bat are hanging on their foot for best"
      ],
      "execution_count": null,
      "outputs": [
        {
          "output_type": "stream",
          "text": [
            "['The', 'striped', 'bats', 'are', 'hanging', 'on', 'their', 'feet', 'for', 'best']\n",
            "the stripe bat are hang on their feet for best\n"
          ],
          "name": "stdout"
        }
      ]
    },
    {
      "cell_type": "markdown",
      "metadata": {
        "id": "Xqn5W59uH7F_"
      },
      "source": [
        "### 運用tokenize技巧結合lemmatize提取每個單詞的lemma"
      ]
    },
    {
      "cell_type": "code",
      "metadata": {
        "colab": {
          "base_uri": "https://localhost:8080/"
        },
        "id": "95kp5TaTH7F_",
        "outputId": "fda9da81-5fd7-4515-96ac-e25ef0e479ef"
      },
      "source": [
        "# Define the sentence to be lemmatized\n",
        "sentence = \"The striped bats are hanging on their feet for best\"\n",
        "\n",
        "# Tokenize: Split the sentence into words\n",
        "word_list = nltk.word_tokenize(sentence)\n",
        "print(word_list)\n",
        "#> ['The', 'striped', 'bats', 'are', 'hanging', 'on', 'their', 'feet', 'for', 'best']\n",
        "\n",
        "# Lemmatize list of words and join\n",
        "lemmatized_output = ' '.join([lemmatizer.lemmatize(w) for w in word_list])\n",
        "print(lemmatized_output)\n",
        "#> The striped bat are hanging on their foot for best"
      ],
      "execution_count": 16,
      "outputs": [
        {
          "output_type": "stream",
          "text": [
            "['The', 'striped', 'bats', 'are', 'hanging', 'on', 'their', 'feet', 'for', 'best']\n",
            "The striped bat are hanging on their foot for best\n"
          ],
          "name": "stdout"
        }
      ]
    },
    {
      "cell_type": "markdown",
      "metadata": {
        "id": "v1mRTYpGH7GA"
      },
      "source": [
        "### 有時單詞的lemma會隨著詞性而有所改變"
      ]
    },
    {
      "cell_type": "code",
      "metadata": {
        "colab": {
          "base_uri": "https://localhost:8080/"
        },
        "id": "Ze1869OXH7GA",
        "outputId": "5d5f0766-bcbc-41e5-a9c8-d8db0d7c6350"
      },
      "source": [
        "print('lemmatization amusing : {}'.format(lemmatizer.lemmatize('amusing',pos = 'v'))) ##動詞\n",
        "print('lemmatization amusing : {}'.format(lemmatizer.lemmatize('amusing',pos = 'a'))) ##形容詞"
      ],
      "execution_count": 17,
      "outputs": [
        {
          "output_type": "stream",
          "text": [
            "lemmatization amusing : amuse\n",
            "lemmatization amusing : amusing\n"
          ],
          "name": "stdout"
        }
      ]
    },
    {
      "cell_type": "markdown",
      "metadata": {
        "id": "_G5jArVqH7GA"
      },
      "source": [
        "### 運用pos_tag技巧結合lemmatize提取每個單詞的lemma"
      ]
    },
    {
      "cell_type": "code",
      "metadata": {
        "id": "__M9zp4rH7GA"
      },
      "source": [
        "# Lemmatize with POS Tag\n",
        "from nltk.corpus import wordnet\n",
        "\n",
        "def get_wordnet_pos(word):\n",
        "    \"\"\"將pos_tag結果map到lemmatizer中pos的格式\"\"\"\n",
        "    tag = nltk.pos_tag([word])[0][1][0].upper()\n",
        "    tag_dict = {\"J\": wordnet.ADJ,\n",
        "                \"N\": wordnet.NOUN,\n",
        "                \"V\": wordnet.VERB,\n",
        "                \"R\": wordnet.ADV}  \n",
        "    print('nltk pos_tag format: {} \\n nltk pos_tag format 2: {} \\n tag_dict: {}'.format(nltk.pos_tag([word]),\n",
        "                                                                                        nltk.pos_tag([word])[0][1][0],\n",
        "                                                                                        tag_dict))\n",
        "\n",
        "    return tag_dict.get(tag, wordnet.NOUN)\n"
      ],
      "execution_count": 28,
      "outputs": []
    },
    {
      "cell_type": "code",
      "metadata": {
        "colab": {
          "base_uri": "https://localhost:8080/"
        },
        "id": "iUeFIU6JH7GB",
        "outputId": "fb085ccc-66aa-4014-931c-3ed3e4cbffe9"
      },
      "source": [
        "word = 'using'\n",
        "print('result: {}'.format(lemmatizer.lemmatize(word, get_wordnet_pos(word))))"
      ],
      "execution_count": 30,
      "outputs": [
        {
          "output_type": "stream",
          "text": [
            "nltk pos_tag format: [('using', 'VBG')] \n",
            " nltk pos_tag format 2: V \n",
            " tag_dict: {'J': 'a', 'N': 'n', 'V': 'v', 'R': 'r'}\n",
            "result: use\n"
          ],
          "name": "stdout"
        }
      ]
    },
    {
      "cell_type": "markdown",
      "metadata": {
        "id": "WfGnM5lWH7GB"
      },
      "source": [
        "### Lemmatize 字串中每個單詞並加入 POS tag"
      ]
    },
    {
      "cell_type": "code",
      "metadata": {
        "colab": {
          "base_uri": "https://localhost:8080/"
        },
        "id": "KHRGDRoVH7GB",
        "outputId": "949bb643-b872-41fa-dac8-9cfeefde15e5"
      },
      "source": [
        "sentence = \"The striped bats are hanging on their feet for best\"\n",
        "seg = nltk.word_tokenize(sentence)\n",
        "print([lemmatizer.lemmatize(w, pos = get_wordnet_pos(w)) for w in seg])"
      ],
      "execution_count": 37,
      "outputs": [
        {
          "output_type": "stream",
          "text": [
            "nltk pos_tag format: [('The', 'DT')] \n",
            " nltk pos_tag format 2: D \n",
            " tag_dict: {'J': 'a', 'N': 'n', 'V': 'v', 'R': 'r'}\n",
            "nltk pos_tag format: [('striped', 'VBD')] \n",
            " nltk pos_tag format 2: V \n",
            " tag_dict: {'J': 'a', 'N': 'n', 'V': 'v', 'R': 'r'}\n",
            "nltk pos_tag format: [('bats', 'NNS')] \n",
            " nltk pos_tag format 2: N \n",
            " tag_dict: {'J': 'a', 'N': 'n', 'V': 'v', 'R': 'r'}\n",
            "nltk pos_tag format: [('are', 'VBP')] \n",
            " nltk pos_tag format 2: V \n",
            " tag_dict: {'J': 'a', 'N': 'n', 'V': 'v', 'R': 'r'}\n",
            "nltk pos_tag format: [('hanging', 'VBG')] \n",
            " nltk pos_tag format 2: V \n",
            " tag_dict: {'J': 'a', 'N': 'n', 'V': 'v', 'R': 'r'}\n",
            "nltk pos_tag format: [('on', 'IN')] \n",
            " nltk pos_tag format 2: I \n",
            " tag_dict: {'J': 'a', 'N': 'n', 'V': 'v', 'R': 'r'}\n",
            "nltk pos_tag format: [('their', 'PRP$')] \n",
            " nltk pos_tag format 2: P \n",
            " tag_dict: {'J': 'a', 'N': 'n', 'V': 'v', 'R': 'r'}\n",
            "nltk pos_tag format: [('feet', 'NNS')] \n",
            " nltk pos_tag format 2: N \n",
            " tag_dict: {'J': 'a', 'N': 'n', 'V': 'v', 'R': 'r'}\n",
            "nltk pos_tag format: [('for', 'IN')] \n",
            " nltk pos_tag format 2: I \n",
            " tag_dict: {'J': 'a', 'N': 'n', 'V': 'v', 'R': 'r'}\n",
            "nltk pos_tag format: [('best', 'JJS')] \n",
            " nltk pos_tag format 2: J \n",
            " tag_dict: {'J': 'a', 'N': 'n', 'V': 'v', 'R': 'r'}\n",
            "['The', 'strip', 'bat', 'be', 'hang', 'on', 'their', 'foot', 'for', 'best']\n"
          ],
          "name": "stdout"
        }
      ]
    }
  ]
}